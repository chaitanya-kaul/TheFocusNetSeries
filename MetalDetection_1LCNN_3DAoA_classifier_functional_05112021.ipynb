{
 "cells": [
  {
   "cell_type": "code",
   "execution_count": 1,
   "metadata": {},
   "outputs": [
    {
     "name": "stdout",
     "output_type": "stream",
     "text": [
      "Device mapping:\n",
      "/job:localhost/replica:0/task:0/device:GPU:0 -> device: 0, name: NVIDIA GeForce RTX 3090, pci bus id: 0000:65:00.0, compute capability: 8.6\n",
      "\n",
      "2.5.0\n"
     ]
    },
    {
     "data": {
      "text/plain": [
       "12.1"
      ]
     },
     "execution_count": 1,
     "metadata": {},
     "output_type": "execute_result"
    }
   ],
   "source": [
    "#Imports\n",
    "from os.path import dirname, join as pjoin\n",
    "import sys\n",
    "import os\n",
    "import numpy as np\n",
    "import matplotlib.pyplot as plt\n",
    "import random\n",
    "import time\n",
    "import tensorflow as tf\n",
    "# import keras\n",
    "# from tqdm.auto import tqdm\n",
    "import glob\n",
    "# import imageio\n",
    "import natsort\n",
    "import cv2\n",
    "from matplotlib import gridspec\n",
    "from skimage.metrics import structural_similarity\n",
    "from sklearn.metrics import mean_squared_error\n",
    "import psutil\n",
    "from scipy.io import savemat\n",
    "\n",
    "from skimage.metrics import structural_similarity\n",
    "from sklearn.metrics import mean_squared_error\n",
    "from skimage.util import view_as_windows\n",
    "import mat73\n",
    "import matplotlib.pylab as pl\n",
    "import matplotlib.gridspec as gridspec\n",
    "import matplotlib.mlab as mlab\n",
    "\n",
    "from IPython import display\n",
    "\n",
    "from tensorflow.keras.models import Sequential\n",
    "from tensorflow.keras.layers import Dense, Dropout, Activation, Flatten,Conv3D, Conv2D, MaxPooling1D, Conv1D, Input, \\\n",
    "    BatchNormalization, Conv2DTranspose, UpSampling2D, UpSampling1D, ZeroPadding1D, Lambda, LeakyReLU, Concatenate,ZeroPadding2D\n",
    "from tensorflow.keras.callbacks import EarlyStopping\n",
    "from tensorflow.keras.regularizers import l2, l1, l1_l2\n",
    "\n",
    "tf.compat.v1.Session(config=tf.compat.v1.ConfigProto(log_device_placement=True))\n",
    "\n",
    "# print(keras.__version__)\n",
    "print(tf.__version__)\n",
    "\n",
    "psutil.virtual_memory().percent"
   ]
  },
  {
   "cell_type": "code",
   "execution_count": 2,
   "metadata": {},
   "outputs": [],
   "source": [
    "def reset_keras(verbose=True):\n",
    "    sess = tf.compat.v1.keras.backend.get_session()\n",
    "    tf.compat.v1.keras.backend.clear_session()\n",
    "    sess.close()\n",
    "    tf.compat.v1.sess = tf.compat.v1.keras.backend.get_session()\n",
    "\n",
    "\n",
    "    if verbose==True:\n",
    "        print(gc.collect()) # if it's done something you should see a number being outputted\n",
    "    else: \n",
    "        pass\n",
    "\n",
    "    # use the same config as you used to create the session\n",
    "    config = tf.compat.v1.ConfigProto()\n",
    "    config.gpu_options.per_process_gpu_memory_fraction = 1\n",
    "    config.gpu_options.visible_device_list = \"0\"\n",
    "    tf.compat.v1.keras.backend.set_session(tf.compat.v1.Session(config=config))"
   ]
  },
  {
   "cell_type": "code",
   "execution_count": 3,
   "metadata": {},
   "outputs": [
    {
     "name": "stdout",
     "output_type": "stream",
     "text": [
      "C:\\Users\\Khaled\\OneDrive - University of Glasgow\\NLOS-Fusion\\ML_datasets_metaldetection\\05112021\n"
     ]
    }
   ],
   "source": [
    "cd C:\\Users\\Khaled\\OneDrive - University of Glasgow\\NLOS-Fusion\\ML_datasets_metaldetection\\05112021"
   ]
  },
  {
   "cell_type": "code",
   "execution_count": 30,
   "metadata": {},
   "outputs": [
    {
     "name": "stdout",
     "output_type": "stream",
     "text": [
      "(6000, 1)\n",
      "(6000, 64, 3, 512, 2, 4)\n"
     ]
    }
   ],
   "source": [
    "#Load in and initialise arrays (SUPERSET)\n",
    "\n",
    "start = time.process_time()\n",
    "\n",
    "\n",
    "\n",
    "# filecode1 = '_05112021_KK_Knife_sceneA_r1.mat'\n",
    "\n",
    "# filecode2 = '_05112021_KK_No_Knife_sceneA_r3.mat'\n",
    "\n",
    "# filecode3 = '_05112021_KK_Knife_sceneA_r2.mat'\n",
    "\n",
    "# filecode4 =  '_05112021_KK_No_Knife_sceneA_r4.mat'\n",
    "\n",
    "\n",
    "\n",
    "\n",
    "filecode1 = '_05112021_KK_Knife_sceneB_r5.mat'\n",
    "\n",
    "filecode2 = '_05112021_KK_NoKnife_sceneB_r7.mat'\n",
    "\n",
    "filecode3 = '_05112021_KK_Knife_sceneB_r6.mat'\n",
    "\n",
    "filecode4 =  '_05112021_KK_NoKnife_sceneB_r8.mat'\n",
    "\n",
    "\n",
    "\n",
    "#RADAR\n",
    "data_dict = mat73.loadmat(f'TIDCA_{filecode1}', use_attrdict=True)\n",
    "rad_buffer_mat1 = data_dict['frames_picked'] # assuming a structure was saved in the .mat\n",
    "\n",
    "data_dict = mat73.loadmat(f'TIDCA_{filecode2}', use_attrdict=True)\n",
    "rad_buffer_mat2 = data_dict['frames_picked'] # assuming a structure was saved in the .mat\n",
    "\n",
    "data_dict = mat73.loadmat(f'TIDCA_{filecode3}', use_attrdict=True)\n",
    "rad_buffer_mat3 = data_dict['frames_picked'] # assuming a structure was saved in the .mat\n",
    "\n",
    "data_dict = mat73.loadmat(f'TIDCA_{filecode4}', use_attrdict=True)\n",
    "rad_buffer_mat4 = data_dict['frames_picked'] # assuming a structure was saved in the .mat\n",
    "\n",
    "\n",
    "\n",
    "\n",
    "rad_buffer_mat = np.concatenate((rad_buffer_mat1[:,:,:,:,:,:],rad_buffer_mat2[:,:,:,:,:,:],rad_buffer_mat3[:,:,:,:,:,:],rad_buffer_mat4[:,:,:,:,:,:]),axis=5)\n",
    "\n",
    "\n",
    "# Output\n",
    "\n",
    "\n",
    "classif_buffer_mat1 = np.ones((1,1500)) \n",
    "\n",
    "classif_buffer_mat2 = np.zeros((1,1500))\n",
    "\n",
    "classif_buffer_mat3 = np.ones((1,1500)) \n",
    "\n",
    "classif_buffer_mat4 =  np.zeros((1,1500))\n",
    "\n",
    "classif_buffer_mat = np.concatenate((classif_buffer_mat1,classif_buffer_mat2,classif_buffer_mat3,classif_buffer_mat4),axis=1)\n",
    "\n",
    "\n",
    "\n",
    "del data_dict\n",
    "del rad_buffer_mat1,rad_buffer_mat2,rad_buffer_mat3,rad_buffer_mat4\n",
    "\n",
    "classif_buffer = np.ascontiguousarray(classif_buffer_mat.T) #transpose to convert from (X,Y,Z) to (Z,X,Y)\n",
    "rad_buffer = np.ascontiguousarray(rad_buffer_mat.T) #\"   \"   \"   \n",
    "\n",
    "del classif_buffer_mat\n",
    "del rad_buffer_mat\n",
    "\n",
    "\n",
    "\n",
    "classif = np.asarray(classif_buffer).astype('float16')\n",
    "radar = np.asarray(rad_buffer).astype('float16')\n",
    "\n",
    "\n",
    "\n",
    "del classif_buffer\n",
    "del rad_buffer\n",
    "\n",
    "print(classif.shape)\n",
    "print(radar.shape)\n",
    "\n",
    "\n",
    "\n",
    "# min_elapsed = (time.process_time() - start) \n",
    "# print('Finished!')\n",
    "# print('Time taken: %d s'%min_elapsed)\n"
   ]
  },
  {
   "cell_type": "code",
   "execution_count": 5,
   "metadata": {},
   "outputs": [],
   "source": [
    "# some functions to add more functionality\n",
    "\n",
    "def normalize(data):    \n",
    "    data = data-np.min(data)\n",
    "    data = data/np.max(data)\n",
    "    return data\n",
    "\n",
    "def pre_process(radar,no_bg = True,fullbg=True,segment=False,range_lim = np.nan,rel_th=np.nan):\n",
    "    # reshape some stuff\n",
    "    radar = radar.transpose([0,5,2,1,3,4]) \n",
    "    # go to CRD\n",
    "    rad_data_complex = radar[:,:,:,:,:,0]+1j*radar[:,:,:,:,:,1]\n",
    "    crd_corr =  np.fft.fft2(rad_data_complex, axes=(- 2, - 1))\n",
    "    print('in crd')\n",
    "    # drop middle antenna with vertical offset\n",
    "    crd_corr = crd_corr[:,:,[0,2],:,:]\n",
    "    # reshape and stack CRD for each virtual antenna\n",
    "    crd_corr = crd_corr.transpose([0,2,1,3,4])\n",
    "    crd_corr_shape = crd_corr.shape\n",
    "    crd_corr = crd_corr.reshape(crd_corr_shape[0],crd_corr_shape[1]*crd_corr_shape[2],crd_corr_shape[3],crd_corr_shape[4])\n",
    "    if range_lim != np.nan:\n",
    "        # limit range so multi-path not possible\n",
    "        crd_corr = crd_corr[:,:,:,:range_lim]\n",
    "    # getting the phase of each crd bin and aoa cube\n",
    "    # phase_cube = np.angle(crd_corr)\n",
    "    aoa_cube = np.abs(np.fft.fft(crd_corr,axis=1))\n",
    "    print('in aoa_cube')\n",
    "    # getting mean of ard across all antennas\n",
    "    ard = np.mean(np.abs(crd_corr),axis=(1))\n",
    "    ard = normalize(ard)\n",
    "    aoa_cube = normalize(aoa_cube)\n",
    "    # add axis to ard and stack\n",
    "    ard_shape = ard.shape\n",
    "    ard = ard.reshape((ard_shape[0],1,ard_shape[1],ard_shape[2]))\n",
    "    ard_aoa_stack = np.append(aoa_cube,ard,axis=1)\n",
    "    if rel_th != np.nan:\n",
    "        # set stuff\n",
    "        object_mask = ard > rel_th\n",
    "        ard_aoa_stack = (ard_aoa_stack.T*object_mask.T).T\n",
    "    if no_bg:\n",
    "        print('removing bg')\n",
    "        if fullbg:\n",
    "            ard_aoa_stack = ard_aoa_stack-np.mean(ard_aoa_stack[:,:,:,:],axis=0) \n",
    "        else:\n",
    "            movavg_fr = 20\n",
    "            # get rid of da background\n",
    "            for i in range(ard_aoa_stack.shape[0]-movavg_fr):\n",
    "                ard_aoa_stack[i+movavg_fr,:,:,:] = ard_aoa_stack[i+movavg_fr,:,:,:]-np.mean(ard_aoa_stack[i:i+movavg_fr,:,:,:],axis=0) \n",
    "        # put everything below zero to zero, because bg subtraction\n",
    "        ard_aoa_stack[ard_aoa_stack < 0 ] = 0\n",
    "    # tranpose so conv across crd\n",
    "    ard_aoa_stack = ard_aoa_stack.transpose([0,3,2,1])\n",
    "    return ard_aoa_stack\n",
    "\n"
   ]
  },
  {
   "cell_type": "code",
   "execution_count": 31,
   "metadata": {},
   "outputs": [
    {
     "name": "stdout",
     "output_type": "stream",
     "text": [
      "in crd\n",
      "in aoa_cube\n",
      "removing bg\n"
     ]
    }
   ],
   "source": [
    "# pre-process the data\n",
    "ard_aoa_stack = pre_process(radar,range_lim=150,rel_th=0.01)"
   ]
  },
  {
   "cell_type": "code",
   "execution_count": 32,
   "metadata": {},
   "outputs": [
    {
     "name": "stdout",
     "output_type": "stream",
     "text": [
      "(5400, 1)\n",
      "(600, 1)\n",
      "(5400, 150, 64, 9)\n",
      "(600, 150, 64, 9)\n"
     ]
    }
   ],
   "source": [
    "# seperate into training and testing set\n",
    "train_radar1 = ard_aoa_stack[0:3000-300]\n",
    "train_radar2 = ard_aoa_stack[3000+300:]\n",
    "train_radar = np.concatenate((train_radar1,train_radar2))\n",
    "test_radar = ard_aoa_stack[3000-300:3000+300]\n",
    "val_radar = test_radar.copy()\n",
    "\n",
    "train_classif1 = classif[0:3000-300]\n",
    "train_classif2 = classif[3000+300:]\n",
    "train_classif = np.concatenate((train_classif1,train_classif2))\n",
    "test_classif = classif[3000-300:3000+300]\n",
    "val_classif = test_classif.copy()\n",
    "\n",
    "\n",
    "# print(train_radar.shape)\n",
    "# print(radar.shape)\n",
    "print(train_classif.shape)\n",
    "print(test_classif.shape)\n",
    "print(train_radar.shape)\n",
    "print(test_radar.shape)"
   ]
  },
  {
   "cell_type": "code",
   "execution_count": 15,
   "metadata": {},
   "outputs": [
    {
     "data": {
      "text/plain": [
       "<matplotlib.image.AxesImage at 0x1a344741ee0>"
      ]
     },
     "execution_count": 15,
     "metadata": {},
     "output_type": "execute_result"
    },
    {
     "data": {
      "image/png": "[encoded data removed]",
      "text/plain": [
       "<Figure size 432x288 with 1 Axes>"
      ]
     },
     "metadata": {
      "needs_background": "light"
     },
     "output_type": "display_data"
    }
   ],
   "source": [
    "# check again ard plot\n",
    "plt.figure(5)\n",
    "plt.imshow(train_radar[56,:,:,0].astype('float32'))"
   ]
  },
  {
   "cell_type": "code",
   "execution_count": 19,
   "metadata": {},
   "outputs": [
    {
     "data": {
      "text/plain": [
       "[<matplotlib.lines.Line2D at 0x1a17d921d30>]"
      ]
     },
     "execution_count": 19,
     "metadata": {},
     "output_type": "execute_result"
    },
    {
     "data": {
      "image/png": "[encoded data removed]",
      "text/plain": [
       "<Figure size 432x288 with 1 Axes>"
      ]
     },
     "metadata": {
      "needs_background": "light"
     },
     "output_type": "display_data"
    }
   ],
   "source": [
    "# check split\n",
    "\n",
    "plt.plot(train_classif)\n",
    "plt.plot(test_classif)"
   ]
  },
  {
   "cell_type": "code",
   "execution_count": 33,
   "metadata": {},
   "outputs": [
    {
     "name": "stdout",
     "output_type": "stream",
     "text": [
      "Model: \"model_1\"\n",
      "_________________________________________________________________\n",
      "Layer (type)                 Output Shape              Param #   \n",
      "=================================================================\n",
      "input_2 (InputLayer)         [(None, 150, 64, 9, 1)]   0         \n",
      "_________________________________________________________________\n",
      "conv3d_1 (Conv3D)            (None, 150, 64, 9, 1)     126       \n",
      "_________________________________________________________________\n",
      "flatten_1 (Flatten)          (None, 86400)             0         \n",
      "_________________________________________________________________\n",
      "dense_1 (Dense)              (None, 1)                 86401     \n",
      "_________________________________________________________________\n",
      "reshape_1 (Reshape)          (None, 1)                 0         \n",
      "=================================================================\n",
      "Total params: 86,527\n",
      "Trainable params: 86,527\n",
      "Non-trainable params: 0\n",
      "_________________________________________________________________\n"
     ]
    },
    {
     "data": {
      "text/plain": [
       "<tensorflow.python.keras.engine.functional.Functional at 0x27da5aa1f10>"
      ]
     },
     "execution_count": 33,
     "metadata": {},
     "output_type": "execute_result"
    }
   ],
   "source": [
    "# Architecture\n",
    "def METALDETEC(feats, kern_int_d, kern_reg, ksd, summary=False):\n",
    "\n",
    "\n",
    "    inp_radar = Input(shape=(150,64,9,1)) # [1,2,4] streams of Radar histograms \n",
    "\n",
    "    ###################################################################################################################\n",
    "            # CNN layer\n",
    "    ###################################################################################################################\n",
    "    conv1 = Conv3D(feats, ksd, activation='relu', padding='same', kernel_regularizer=kern_reg, kernel_initializer=kern_int_d)(inp_radar)\n",
    "\n",
    "    flatt_feat = Flatten()(conv1)\n",
    "\n",
    "    dense1 = Dense(1,activation='sigmoid')(flatt_feat)\n",
    "    \n",
    "    out =  tf.keras.layers.Reshape((1,))(dense1)\n",
    "\n",
    "    # lamb1 = Lambda(custom_sigmoid)(out)\n",
    "    \n",
    "    model = tf.keras.Model(inputs=[inp_radar], outputs=out)\n",
    "    if summary==True:\n",
    "        model.summary()\n",
    "\n",
    "    return model\n",
    "\n",
    "\n",
    "def train_METALDETEC(train_inputs, train_labels, val_inputs, val_labels, epochs, feats, batch, kern_int_d, kern_reg, ksd, val):\n",
    "    \n",
    "    model = METALDETEC(feats, kern_int_d, kern_reg, ksd)\n",
    "    adam = tf.keras.optimizers.Adam(learning_rate=1e-4, beta_1=0.9, beta_2=0.999)\n",
    "    model.compile(loss='bce',optimizer=adam, metrics=['accuracy'])\n",
    "\n",
    "    #enable callbacks for validation\n",
    "    if val==True:\n",
    "      my_callbacks = [EarlyStopping(monitor='val_loss',\n",
    "                                    patience=10)]\n",
    "    #disable callbacks for training final model\n",
    "    if val==False:\n",
    "      my_callbacks = []\n",
    "                        \n",
    "    \n",
    "    start=time.time()\n",
    "    history = model.fit(train_inputs, train_labels, epochs=epochs, batch_size=batch, \n",
    "                        validation_data=(val_inputs, val_labels), verbose=1, \n",
    "                        callbacks=my_callbacks, shuffle= True)\n",
    "    end=time.time()\n",
    "     \n",
    "    print('comp. time =',end-start)\n",
    "    return model, history.history['loss'], history.history['val_loss']\n",
    "    # return model, history.history['loss'], history.history['loss']\n",
    "    \n",
    "METALDETEC(feats=1, kern_int_d='he_normal', ksd=5, kern_reg=None, summary=True)"
   ]
  },
  {
   "cell_type": "code",
   "execution_count": 34,
   "metadata": {
    "tags": []
   },
   "outputs": [
    {
     "name": "stdout",
     "output_type": "stream",
     "text": [
      "Epoch 1/50\n",
      "540/540 [==============================] - 5s 9ms/step - loss: 0.6919 - accuracy: 0.5804 - val_loss: 0.6919 - val_accuracy: 0.6100\n",
      "Epoch 2/50\n",
      "540/540 [==============================] - 5s 9ms/step - loss: 0.6859 - accuracy: 0.6559 - val_loss: 0.6908 - val_accuracy: 0.5933\n",
      "Epoch 3/50\n",
      "540/540 [==============================] - 5s 9ms/step - loss: 0.6784 - accuracy: 0.6228 - val_loss: 0.6894 - val_accuracy: 0.5700\n",
      "Epoch 4/50\n",
      "540/540 [==============================] - 4s 8ms/step - loss: 0.6710 - accuracy: 0.6219 - val_loss: 0.6885 - val_accuracy: 0.5767\n",
      "Epoch 5/50\n",
      "540/540 [==============================] - 4s 8ms/step - loss: 0.6641 - accuracy: 0.6426 - val_loss: 0.6865 - val_accuracy: 0.5850\n",
      "Epoch 6/50\n",
      "540/540 [==============================] - 4s 8ms/step - loss: 0.6569 - accuracy: 0.6391 - val_loss: 0.6840 - val_accuracy: 0.5783\n",
      "Epoch 7/50\n",
      "540/540 [==============================] - 5s 9ms/step - loss: 0.6506 - accuracy: 0.6448 - val_loss: 0.6837 - val_accuracy: 0.5600\n",
      "Epoch 8/50\n",
      "540/540 [==============================] - 5s 9ms/step - loss: 0.6429 - accuracy: 0.6637 - val_loss: 0.6814 - val_accuracy: 0.5983\n",
      "Epoch 9/50\n",
      "540/540 [==============================] - 5s 9ms/step - loss: 0.6358 - accuracy: 0.6674 - val_loss: 0.6811 - val_accuracy: 0.5633\n",
      "Epoch 10/50\n",
      "540/540 [==============================] - 5s 9ms/step - loss: 0.6279 - accuracy: 0.6778 - val_loss: 0.6772 - val_accuracy: 0.5783\n",
      "Epoch 11/50\n",
      "540/540 [==============================] - 5s 9ms/step - loss: 0.6207 - accuracy: 0.6844 - val_loss: 0.6753 - val_accuracy: 0.5850\n",
      "Epoch 12/50\n",
      "540/540 [==============================] - 5s 9ms/step - loss: 0.6131 - accuracy: 0.6987 - val_loss: 0.6722 - val_accuracy: 0.5950\n",
      "Epoch 13/50\n",
      "540/540 [==============================] - 5s 9ms/step - loss: 0.6057 - accuracy: 0.7104 - val_loss: 0.6717 - val_accuracy: 0.6000\n",
      "Epoch 14/50\n",
      "540/540 [==============================] - 5s 9ms/step - loss: 0.5988 - accuracy: 0.7187 - val_loss: 0.6689 - val_accuracy: 0.6117\n",
      "Epoch 15/50\n",
      "540/540 [==============================] - 5s 9ms/step - loss: 0.5908 - accuracy: 0.7285 - val_loss: 0.6647 - val_accuracy: 0.6183\n",
      "Epoch 16/50\n",
      "540/540 [==============================] - 5s 9ms/step - loss: 0.5813 - accuracy: 0.7404 - val_loss: 0.6742 - val_accuracy: 0.5900\n",
      "Epoch 17/50\n",
      "540/540 [==============================] - 5s 9ms/step - loss: 0.5735 - accuracy: 0.7493 - val_loss: 0.6593 - val_accuracy: 0.6250\n",
      "Epoch 18/50\n",
      "540/540 [==============================] - 5s 9ms/step - loss: 0.5657 - accuracy: 0.7578 - val_loss: 0.6591 - val_accuracy: 0.6217\n",
      "Epoch 19/50\n",
      "540/540 [==============================] - 5s 9ms/step - loss: 0.5570 - accuracy: 0.7646 - val_loss: 0.6541 - val_accuracy: 0.6467\n",
      "Epoch 20/50\n",
      "540/540 [==============================] - 5s 9ms/step - loss: 0.5479 - accuracy: 0.7731 - val_loss: 0.6492 - val_accuracy: 0.6350\n",
      "Epoch 21/50\n",
      "540/540 [==============================] - 5s 9ms/step - loss: 0.5415 - accuracy: 0.7811 - val_loss: 0.6543 - val_accuracy: 0.6217\n",
      "Epoch 22/50\n",
      "540/540 [==============================] - 5s 9ms/step - loss: 0.5327 - accuracy: 0.7850 - val_loss: 0.6443 - val_accuracy: 0.6417\n",
      "Epoch 23/50\n",
      "540/540 [==============================] - 5s 9ms/step - loss: 0.5240 - accuracy: 0.8017 - val_loss: 0.6414 - val_accuracy: 0.6583\n",
      "Epoch 24/50\n",
      "540/540 [==============================] - 5s 9ms/step - loss: 0.5157 - accuracy: 0.8074 - val_loss: 0.6501 - val_accuracy: 0.6283\n",
      "Epoch 25/50\n",
      "540/540 [==============================] - 5s 9ms/step - loss: 0.5081 - accuracy: 0.8076 - val_loss: 0.6381 - val_accuracy: 0.6633\n",
      "Epoch 26/50\n",
      "540/540 [==============================] - 5s 9ms/step - loss: 0.4988 - accuracy: 0.8213 - val_loss: 0.6550 - val_accuracy: 0.6250\n",
      "Epoch 27/50\n",
      "540/540 [==============================] - 5s 9ms/step - loss: 0.4907 - accuracy: 0.8215 - val_loss: 0.6326 - val_accuracy: 0.6750\n",
      "Epoch 28/50\n",
      "540/540 [==============================] - 5s 9ms/step - loss: 0.4819 - accuracy: 0.8328 - val_loss: 0.6327 - val_accuracy: 0.6700\n",
      "Epoch 29/50\n",
      "540/540 [==============================] - 5s 9ms/step - loss: 0.4738 - accuracy: 0.8419 - val_loss: 0.6263 - val_accuracy: 0.6800\n",
      "Epoch 30/50\n",
      "540/540 [==============================] - 5s 9ms/step - loss: 0.4655 - accuracy: 0.8413 - val_loss: 0.6245 - val_accuracy: 0.6783\n",
      "Epoch 31/50\n",
      "540/540 [==============================] - 4s 8ms/step - loss: 0.4570 - accuracy: 0.8494 - val_loss: 0.6191 - val_accuracy: 0.6917\n",
      "Epoch 32/50\n",
      "540/540 [==============================] - 5s 8ms/step - loss: 0.4485 - accuracy: 0.8530 - val_loss: 0.6196 - val_accuracy: 0.6883\n",
      "Epoch 33/50\n",
      "540/540 [==============================] - 4s 8ms/step - loss: 0.4404 - accuracy: 0.8598 - val_loss: 0.6198 - val_accuracy: 0.6800\n",
      "Epoch 34/50\n",
      "540/540 [==============================] - 5s 8ms/step - loss: 0.4321 - accuracy: 0.8652 - val_loss: 0.6141 - val_accuracy: 0.6933\n",
      "Epoch 35/50\n",
      "540/540 [==============================] - 5s 8ms/step - loss: 0.4240 - accuracy: 0.8693 - val_loss: 0.6137 - val_accuracy: 0.6917\n",
      "Epoch 36/50\n",
      "540/540 [==============================] - 4s 8ms/step - loss: 0.4153 - accuracy: 0.8681 - val_loss: 0.6096 - val_accuracy: 0.6933\n",
      "Epoch 37/50\n",
      "540/540 [==============================] - 4s 8ms/step - loss: 0.4078 - accuracy: 0.8741 - val_loss: 0.6179 - val_accuracy: 0.6733\n",
      "Epoch 38/50\n",
      "540/540 [==============================] - 5s 8ms/step - loss: 0.3996 - accuracy: 0.8826 - val_loss: 0.6050 - val_accuracy: 0.6967\n",
      "Epoch 39/50\n",
      "540/540 [==============================] - 4s 8ms/step - loss: 0.3913 - accuracy: 0.8880 - val_loss: 0.5952 - val_accuracy: 0.6917\n",
      "Epoch 40/50\n",
      "540/540 [==============================] - 5s 8ms/step - loss: 0.3841 - accuracy: 0.8887 - val_loss: 0.5925 - val_accuracy: 0.6933\n",
      "Epoch 41/50\n",
      "540/540 [==============================] - 5s 8ms/step - loss: 0.3761 - accuracy: 0.8920 - val_loss: 0.6027 - val_accuracy: 0.6950\n",
      "Epoch 42/50\n",
      "540/540 [==============================] - 4s 8ms/step - loss: 0.3676 - accuracy: 0.8957 - val_loss: 0.5890 - val_accuracy: 0.7117\n",
      "Epoch 43/50\n",
      "540/540 [==============================] - 4s 8ms/step - loss: 0.3598 - accuracy: 0.8994 - val_loss: 0.5824 - val_accuracy: 0.7017\n",
      "Epoch 44/50\n",
      "540/540 [==============================] - 5s 8ms/step - loss: 0.3532 - accuracy: 0.9031 - val_loss: 0.5969 - val_accuracy: 0.6967\n",
      "Epoch 45/50\n",
      "540/540 [==============================] - 5s 8ms/step - loss: 0.3462 - accuracy: 0.9037 - val_loss: 0.5843 - val_accuracy: 0.7083\n",
      "Epoch 46/50\n",
      "540/540 [==============================] - 4s 8ms/step - loss: 0.3394 - accuracy: 0.9087 - val_loss: 0.5782 - val_accuracy: 0.7100\n",
      "Epoch 47/50\n",
      "540/540 [==============================] - 5s 8ms/step - loss: 0.3314 - accuracy: 0.9126 - val_loss: 0.5784 - val_accuracy: 0.7150\n",
      "Epoch 48/50\n",
      "540/540 [==============================] - 4s 8ms/step - loss: 0.3243 - accuracy: 0.9144 - val_loss: 0.5672 - val_accuracy: 0.7083\n",
      "Epoch 49/50\n",
      "540/540 [==============================] - 4s 8ms/step - loss: 0.3174 - accuracy: 0.9176 - val_loss: 0.5870 - val_accuracy: 0.7067\n",
      "Epoch 50/50\n",
      "540/540 [==============================] - 5s 8ms/step - loss: 0.3104 - accuracy: 0.9193 - val_loss: 0.5631 - val_accuracy: 0.7217\n",
      "comp. time = 232.01689529418945\n"
     ]
    }
   ],
   "source": [
    "# Fit model with GPU\n",
    "reset_keras(verbose=False)\n",
    "model, train_hist, val_hist = train_METALDETEC(train_inputs = [train_radar],\n",
    "                        train_labels = train_classif,\n",
    "                        val_inputs = [val_radar],\n",
    "                        val_labels = val_classif,\n",
    "                        epochs=50,\n",
    "                        feats=1,\n",
    "                        batch=10,\n",
    "                        kern_int_d='he_normal', # glorot_uniform\n",
    "                        ksd=5,\n",
    "                        kern_reg=None,\n",
    "                        val=False)"
   ]
  },
  {
   "cell_type": "code",
   "execution_count": 35,
   "metadata": {},
   "outputs": [
    {
     "data": {
      "image/png": "[encoded data removed]",
      "text/plain": [
       "<Figure size 360x216 with 1 Axes>"
      ]
     },
     "metadata": {
      "needs_background": "light"
     },
     "output_type": "display_data"
    }
   ],
   "source": [
    "fig=plt.figure(figsize=(5,3))\n",
    "plt.title('Average training curve when number of max. scat. events')\n",
    "plt.plot(train_hist,label='training loss')\n",
    "plt.plot(val_hist,label='validation loss')\n",
    "plt.xlabel('Epoch')\n",
    "plt.ylabel('MSE')\n",
    "plt.yscale('log')\n",
    "plt.legend()    \n",
    "# plt.savefig(folder + '/' + f'training_progression_l1min_epoch_50_feat64__Rx1AB_Rx2AB.svg')\n",
    "plt.show()\n"
   ]
  },
  {
   "cell_type": "code",
   "execution_count": null,
   "metadata": {},
   "outputs": [],
   "source": [
    "# check performance\n",
    "predictions = np.float64(model.predict([val_radar]))\n",
    "np.mean((np.abs(predictions-val_classif)<0.3))"
   ]
  },
  {
   "cell_type": "code",
   "execution_count": 20,
   "metadata": {},
   "outputs": [
    {
     "name": "stdout",
     "output_type": "stream",
     "text": [
      "(3000, 1)\n",
      "(6000, 64, 3, 512, 2, 4)\n"
     ]
    }
   ],
   "source": [
    "#Load in scnd background\n",
    "\n",
    "start = time.process_time()\n",
    "\n",
    "\n",
    "\n",
    "filecode1 = '_05112021_KK_Knife_sceneA_r1.mat'\n",
    "\n",
    "filecode2 = '_05112021_KK_No_Knife_sceneA_r3.mat'\n",
    "\n",
    "# filecode3 = '_05112021_KK_Knife_sceneA_r2.mat'\n",
    "\n",
    "# filecode4 =  '_05112021_KK_No_Knife_sceneA_r4.mat'\n",
    "\n",
    "\n",
    "\n",
    "\n",
    "# filecode1 = '_05112021_KK_Knife_sceneB_r5.mat'\n",
    "\n",
    "# filecode2 = '_05112021_KK_NoKnife_sceneB_r7.mat'\n",
    "\n",
    "# filecode3 = '_05112021_KK_Knife_sceneB_r6.mat'\n",
    "\n",
    "# filecode4 =  '_05112021_KK_NoKnife_sceneB_r8.mat'\n",
    "\n",
    "\n",
    "\n",
    "#RADAR\n",
    "data_dict = mat73.loadmat(f'TIDCA_{filecode1}', use_attrdict=True)\n",
    "rad_buffer_mat1 = data_dict['frames_picked'] # assuming a structure was saved in the .mat\n",
    "\n",
    "data_dict = mat73.loadmat(f'TIDCA_{filecode2}', use_attrdict=True)\n",
    "rad_buffer_mat2 = data_dict['frames_picked'] # assuming a structure was saved in the .mat\n",
    "\n",
    "\n",
    "\n",
    "\n",
    "\n",
    "rad_buffer_mat = np.concatenate((rad_buffer_mat1[:,:,:,:,:,:],rad_buffer_mat2[:,:,:,:,:,:]),axis=5)\n",
    "\n",
    "\n",
    "# Output\n",
    "\n",
    "\n",
    "classif_buffer_mat1 = np.ones((1,1500)) \n",
    "\n",
    "classif_buffer_mat2 = np.zeros((1,1500))\n",
    "\n",
    "classif_buffer_mat = np.concatenate((classif_buffer_mat1,classif_buffer_mat2),axis=1)\n",
    "\n",
    "\n",
    "\n",
    "del data_dict\n",
    "del rad_buffer_mat1,rad_buffer_mat2\n",
    "\n",
    "classif_buffer = np.ascontiguousarray(classif_buffer_mat.T) #transpose to convert from (X,Y,Z) to (Z,X,Y)\n",
    "rad_buffer = np.ascontiguousarray(rad_buffer_mat.T) #\"   \"   \"   \n",
    "\n",
    "del classif_buffer_mat\n",
    "del rad_buffer_mat\n",
    "\n",
    "\n",
    "\n",
    "classif_bg2 = np.asarray(classif_buffer).astype('float16')\n",
    "radar_bg2 = np.asarray(rad_buffer).astype('float16')\n",
    "\n",
    "\n",
    "\n",
    "del classif_buffer\n",
    "del rad_buffer\n",
    "\n",
    "print(classif.shape)\n",
    "print(radar.shape)\n",
    "\n",
    "\n",
    "\n",
    "# min_elapsed = (time.process_time() - start) \n",
    "# print('Finished!')\n",
    "# print('Time taken: %d s'%min_elapsed)\n"
   ]
  },
  {
   "cell_type": "code",
   "execution_count": 37,
   "metadata": {},
   "outputs": [
    {
     "name": "stdout",
     "output_type": "stream",
     "text": [
      "in crd\n",
      "in aoa_cube\n",
      "removing bg\n"
     ]
    }
   ],
   "source": [
    "# pre-process second background\n",
    "ard_aoa_stackbg2 = pre_process(radar_bg2,range_lim=150,rel_th=0.10)"
   ]
  },
  {
   "cell_type": "code",
   "execution_count": 41,
   "metadata": {},
   "outputs": [
    {
     "data": {
      "text/plain": [
       "0.3303333333333333"
      ]
     },
     "execution_count": 41,
     "metadata": {},
     "output_type": "execute_result"
    }
   ],
   "source": [
    "# predict for new background\n",
    "\n",
    "predictions = np.float64(model.predict([ard_aoa_stackbg2]))\n",
    "np.mean((np.abs(predictions-classif_bg2)<0.3))"
   ]
  }
 ],
 "metadata": {
  "interpreter": {
   "hash": "89b456fa1090e28aa42e3e431022e32acb84307c1339047862591b78ac7d0b4b"
  },
  "kernelspec": {
   "display_name": "Python 3.9.5 64-bit ('metalNN': conda)",
   "name": "python3"
  },
  "language_info": {
   "codemirror_mode": {
    "name": "ipython",
    "version": 3
   },
   "file_extension": ".py",
   "mimetype": "text/x-python",
   "name": "python",
   "nbconvert_exporter": "python",
   "pygments_lexer": "ipython3",
   "version": "3.9.5"
  }
 },
 "nbformat": 4,
 "nbformat_minor": 4
}
